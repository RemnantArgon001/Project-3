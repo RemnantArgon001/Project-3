{
  "cells": [
    {
      "cell_type": "code",
      "execution_count": null,
      "metadata": {
        "id": "D98s-AK27zZn"
      },
      "outputs": [],
      "source": [
        "#Import lIBRARIES\n",
        "import pandas as pd\n",
        "import numpy as np\n",
        "import os as os"
      ]
    },
    {
      "cell_type": "code",
      "execution_count": null,
      "metadata": {
        "id": "fOOzcMrI70uc"
      },
      "outputs": [],
      "source": [
        "# example making new folder with os\n",
        "\n",
        "os.makedirs('Data/',exist_ok=True) \n",
        "# Confirm folder created\n",
        "os.listdir(\"Data/\")"
      ]
    },
    {
      "cell_type": "code",
      "execution_count": null,
      "metadata": {
        "id": "MKoSWtiW7054"
      },
      "outputs": [],
      "source": [
        "##Load Basics set and assign to DF\n",
        "\n",
        "basics_url=\"https://datasets.imdbws.com/title.basics.tsv.gz\"\n",
        "\n",
        "basicsDF = pd.read_csv(basics_url, sep='\\t', low_memory=False)\n",
        "\n",
        "basicsDF.to_csv(\"Data/title_basics.csv.gz\",compression='gzip',index=False)"
      ]
    },
    {
      "cell_type": "code",
      "execution_count": null,
      "metadata": {
        "id": "IKVNS0yi71Bp"
      },
      "outputs": [],
      "source": [
        "#Assign local file to DF\n",
        "basics = pd.read_csv(\"Data/title_basics.csv.gz\", low_memory=False)\n",
        "basics.head()"
      ]
    },
    {
      "cell_type": "code",
      "execution_count": null,
      "metadata": {
        "id": "MDTAjSps71Gh"
      },
      "outputs": [],
      "source": [
        "#Basics preprocessing\n",
        "\n",
        "#Replace \"\\N\" with np.nan\n",
        "basics.replace({'\\\\N': np.nan}, inplace=True) \n",
        "basics.head()"
      ]
    },
    {
      "cell_type": "code",
      "execution_count": null,
      "metadata": {
        "id": "ATB7aUK371SO"
      },
      "outputs": [],
      "source": [
        "#Eliminate movies that are null for runtimeMinutes\n",
        "basics = basics.dropna(subset=['genres', 'runtimeMinutes'])"
      ]
    },
    {
      "cell_type": "code",
      "execution_count": null,
      "metadata": {
        "id": "DVT2SpqJ71aJ"
      },
      "outputs": [],
      "source": [
        "basics.isna().sum()"
      ]
    },
    {
      "cell_type": "code",
      "execution_count": null,
      "metadata": {
        "id": "DjtBNBTl71jU"
      },
      "outputs": [],
      "source": [
        "#keep only titleType==Movie\n",
        "movie_filter = basics['titleType']=='movie'\n",
        "movie_filter.head()\n",
        "\n",
        "basics[movie_filter].head()"
      ]
    },
    {
      "cell_type": "code",
      "execution_count": null,
      "metadata": {
        "id": "EwRTBxKO71r3"
      },
      "outputs": [],
      "source": [
        "#keep startYear 2000-2022\n",
        "start_filt = basics['startYear'] >= '2000'\n",
        "start_filt.head()"
      ]
    },
    {
      "cell_type": "code",
      "execution_count": null,
      "metadata": {
        "id": "KnVyYg8471va"
      },
      "outputs": [],
      "source": [
        "end_filt = basics['startYear']<='2022'\n",
        "end_filt.head()"
      ]
    },
    {
      "cell_type": "code",
      "execution_count": null,
      "metadata": {
        "id": "akKDTR5D71zT"
      },
      "outputs": [],
      "source": [
        "basics = basics.loc[start_filt & end_filt, :]\n",
        "basics.head()"
      ]
    },
    {
      "cell_type": "code",
      "execution_count": null,
      "metadata": {
        "id": "XzXvZD56713Q"
      },
      "outputs": [],
      "source": [
        "#Eliminate movies that include  \"Documentary\" in genre (see tip below)\n",
        "#basics = basics[basics[\"genres\"].str.contains(\"Documentary\") == False]\n",
        "is_documentary = basics['genres'].str.contains('documentary',case=False)\n",
        "basics = basics[~is_documentary]\n",
        "basics"
      ]
    },
    {
      "cell_type": "code",
      "execution_count": null,
      "metadata": {
        "id": "t9VWdOrQ716l"
      },
      "outputs": [],
      "source": [
        "pd.set_option(\"display.max_rows\", None)\n",
        "basics['genres'].value_counts()"
      ]
    },
    {
      "cell_type": "code",
      "execution_count": null,
      "metadata": {
        "id": "LTzyJwaF7197"
      },
      "outputs": [],
      "source": [
        "##Load AKAs data set and save locally \n",
        "akas_url=\"https://datasets.imdbws.com/title.akas.tsv.gz\"\n",
        "\n",
        "akasDF = pd.read_csv(akas_url, sep='\\t', low_memory=False)\n",
        "\n",
        "akasDF.to_csv(\"Data/title.akas.csv.gz\",compression='gzip',index=False)"
      ]
    },
    {
      "cell_type": "code",
      "execution_count": null,
      "metadata": {
        "id": "0f0vk42T72E0"
      },
      "outputs": [],
      "source": [
        "#Assign local file to DF\n",
        "akas = pd.read_csv(\"Data/title.akas.csv.gz\", low_memory=False)\n",
        "akas.head()"
      ]
    },
    {
      "cell_type": "code",
      "execution_count": null,
      "metadata": {
        "id": "OI3lr5oq72I5"
      },
      "outputs": [],
      "source": [
        "akas.replace({'\\\\N':np.nan}, inplace=True)"
      ]
    },
    {
      "cell_type": "code",
      "execution_count": null,
      "metadata": {
        "id": "JtVefNzO72Mw"
      },
      "outputs": [],
      "source": [
        "#AKA - keep only US entries. I keep breaking the main df, I'm creating a dummy\n",
        "#df that I will move back once done.\n",
        "dfa= akas\n",
        "dfa.head()"
      ]
    },
    {
      "cell_type": "code",
      "execution_count": null,
      "metadata": {
        "id": "KSN4yt5P72Qn"
      },
      "outputs": [],
      "source": [
        "#Apply filter to retain only movies in US region\n",
        "region_filt = dfa['region']=='US'\n",
        "region_filt.head()"
      ]
    },
    {
      "cell_type": "code",
      "execution_count": null,
      "metadata": {
        "id": "fZh7Fz2t72qF"
      },
      "outputs": [],
      "source": [
        "#Check that filtering worked...it did.  ONLY US region films are showing.\n",
        "dfa[region_filt].head()"
      ]
    },
    {
      "cell_type": "code",
      "execution_count": null,
      "metadata": {
        "id": "v0lxukTH72tu"
      },
      "outputs": [],
      "source": [
        "dfa = dfa.loc[region_filt, :]\n",
        "dfa.head()"
      ]
    },
    {
      "cell_type": "code",
      "execution_count": null,
      "metadata": {
        "id": "Gj1XROOg72xx"
      },
      "outputs": [],
      "source": [
        "dfa['region'].value_counts()"
      ]
    },
    {
      "cell_type": "code",
      "execution_count": null,
      "metadata": {
        "id": "h8Htqh6l721Z"
      },
      "outputs": [],
      "source": [
        "#Transfer dummy set back to actual df\n",
        "akas = dfa\n",
        "akas.head()"
      ]
    },
    {
      "cell_type": "code",
      "execution_count": null,
      "metadata": {
        "id": "eA1AlWff9PHB"
      },
      "outputs": [],
      "source": [
        "#Save new cleansed df to local csv file from earlier \n",
        "akas.to_csv(\"Data/title.akas.csv.gz\",compression='gzip',index=False)"
      ]
    },
    {
      "cell_type": "code",
      "execution_count": null,
      "metadata": {
        "id": "7cWr_CaC9PUQ"
      },
      "outputs": [],
      "source": [
        "#Display df info as requested\n",
        "akas.info()"
      ]
    },
    {
      "cell_type": "code",
      "execution_count": null,
      "metadata": {
        "id": "FP3vlJaz9PY-"
      },
      "outputs": [],
      "source": [
        "##Load Ratings data set and assign to DF\n",
        "ratings_url=\"https://datasets.imdbws.com/title.ratings.tsv.gz\"\n",
        "\n",
        "ratingsDF = pd.read_csv(ratings_url, sep='\\t', low_memory=False)\n",
        "\n",
        "ratingsDF.to_csv(\"Data/title.ratings.csv.gz\",compression='gzip',index=False)"
      ]
    },
    {
      "cell_type": "code",
      "execution_count": null,
      "metadata": {
        "id": "rCsuP6u89PdE"
      },
      "outputs": [],
      "source": [
        "#Assign local file to DF\n",
        "ratings = pd.read_csv(\"Data/title.ratings.csv.gz\", low_memory=False)\n",
        "ratings.head()"
      ]
    },
    {
      "cell_type": "code",
      "execution_count": null,
      "metadata": {
        "id": "CLOH0O309Pg2"
      },
      "outputs": [],
      "source": [
        "#RATINGS Preprocessing\n",
        "ratings.replace({'\\\\N':np.nan}) "
      ]
    },
    {
      "cell_type": "code",
      "execution_count": null,
      "metadata": {
        "id": "4lDewufU9Pks"
      },
      "outputs": [],
      "source": [
        "ratings.info()"
      ]
    },
    {
      "cell_type": "code",
      "execution_count": null,
      "metadata": {
        "id": "r4kQo60q9PoS"
      },
      "outputs": [],
      "source": [
        "ratings.to_csv(\"Data/title.ratings.csv.gz\",compression='gzip',index=False)"
      ]
    },
    {
      "cell_type": "code",
      "execution_count": null,
      "metadata": {
        "id": "c2TCF90H9PsB"
      },
      "outputs": [],
      "source": [
        "# Filter the basics table down to only include the US by using the filter akas dataframe\n",
        "keepers =basics['tconst'].isin(akas['titleId'])\n",
        "keepers"
      ]
    },
    {
      "cell_type": "code",
      "execution_count": null,
      "metadata": {
        "id": "c61sJkqk9quw"
      },
      "outputs": [],
      "source": [
        "basics = basics[keepers]\n",
        "basics"
      ]
    },
    {
      "cell_type": "code",
      "execution_count": null,
      "metadata": {
        "id": "CNGGNmLB727E"
      },
      "outputs": [],
      "source": [
        "basics = pd.to_csv(\"Data/title_basics.csv.gz\", low_memory=False, compression= 'gzip',index=False)\n",
        "basics.head()"
      ]
    }
  ],
  "metadata": {
    "colab": {
      "collapsed_sections": [],
      "name": "Project3part1.ipynb",
      "provenance": []
    },
    "interpreter": {
      "hash": "52c2635f6607ff696028d1a1b927722df32ca328ce3761e05fb9ef682faf1a8c"
    },
    "kernelspec": {
      "display_name": "Python 3.7.12 ('dojo-env')",
      "language": "python",
      "name": "python3"
    },
    "language_info": {
      "name": "python",
      "version": "3.7.12"
    }
  },
  "nbformat": 4,
  "nbformat_minor": 0
}
